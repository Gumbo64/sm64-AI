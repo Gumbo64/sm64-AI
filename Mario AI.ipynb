{
 "cells": [
  {
   "cell_type": "code",
   "execution_count": 1,
   "id": "addcd4c2",
   "metadata": {},
   "outputs": [
    {
     "name": "stdout",
     "output_type": "stream",
     "text": [
      "^C\n"
     ]
    }
   ],
   "source": [
    "!pip install pettingzoo pygame numpy supersuit agilerl"
   ]
  },
  {
   "cell_type": "code",
   "execution_count": 4,
   "id": "c89a3354",
   "metadata": {},
   "outputs": [
    {
     "name": "stdout",
     "output_type": "stream",
     "text": [
      "making marios\n"
     ]
    }
   ],
   "source": [
    "from env.sm64_env import SM64_ENV\n",
    "env = SM64_ENV(GRAYSCALE=False,N_ACTION_REPEAT=4)"
   ]
  },
  {
   "cell_type": "code",
   "execution_count": null,
   "id": "aa98c2e5",
   "metadata": {
    "scrolled": true
   },
   "outputs": [
    {
     "name": "stdout",
     "output_type": "stream",
     "text": [
      "RESET\n",
      "RESET\n"
     ]
    }
   ],
   "source": [
    "import random\n",
    "done = False\n",
    "while not done:\n",
    "    for i in range(100):\n",
    "        list_actions = [0 for _ in range(env.MAX_PLAYERS)]\n",
    "        if i % 10 == 0:\n",
    "            list_actions = [2 for _ in range(env.MAX_PLAYERS)]\n",
    "        if i % 10 == 1:\n",
    "            list_actions = [1 for _ in range(env.MAX_PLAYERS)]\n",
    "\n",
    "        list_actions = [random.randint(0,env.N_ACTIONS-1) for _ in range(env.MAX_PLAYERS)]\n",
    "        actions = {f\"mario{k}\": list_actions[k] for k in range(env.MAX_PLAYERS) }\n",
    "        env.step(actions)\n",
    "        env.render()\n",
    "\n",
    "    print(\"RESET\")\n",
    "    env.reset()"
   ]
  },
  {
   "cell_type": "code",
   "execution_count": null,
   "id": "04217c2f",
   "metadata": {},
   "outputs": [],
   "source": [
    "# top left image\n",
    "env.imgs[0]"
   ]
  },
  {
   "cell_type": "code",
   "execution_count": null,
   "id": "5e29f39d",
   "metadata": {},
   "outputs": [],
   "source": []
  },
  {
   "cell_type": "code",
   "execution_count": null,
   "id": "a03f8de9",
   "metadata": {},
   "outputs": [],
   "source": []
  },
  {
   "cell_type": "code",
   "execution_count": null,
   "id": "b22faa59",
   "metadata": {},
   "outputs": [],
   "source": []
  }
 ],
 "metadata": {
  "kernelspec": {
   "display_name": "Python 3 (ipykernel)",
   "language": "python",
   "name": "python3"
  },
  "language_info": {
   "codemirror_mode": {
    "name": "ipython",
    "version": 3
   },
   "file_extension": ".py",
   "mimetype": "text/x-python",
   "name": "python",
   "nbconvert_exporter": "python",
   "pygments_lexer": "ipython3",
   "version": "3.10.9"
  }
 },
 "nbformat": 4,
 "nbformat_minor": 5
}
