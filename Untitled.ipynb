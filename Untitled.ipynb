{
 "cells": [
  {
   "cell_type": "code",
   "execution_count": 1,
   "id": "addcd4c2",
   "metadata": {},
   "outputs": [
    {
     "name": "stdout",
     "output_type": "stream",
     "text": [
      "Requirement already satisfied: pettingzoo in j:\\devtools\\anaconda\\lib\\site-packages (1.24.2)\n",
      "Requirement already satisfied: pygame in j:\\devtools\\anaconda\\lib\\site-packages (2.5.2)\n",
      "Requirement already satisfied: numpy in j:\\devtools\\anaconda\\lib\\site-packages (1.23.5)\n",
      "Requirement already satisfied: gymnasium>=0.28.0 in j:\\devtools\\anaconda\\lib\\site-packages (from pettingzoo) (0.29.1)\n",
      "Requirement already satisfied: cloudpickle>=1.2.0 in c:\\users\\rory\\appdata\\roaming\\python\\python310\\site-packages (from gymnasium>=0.28.0->pettingzoo) (2.1.0)\n",
      "Requirement already satisfied: farama-notifications>=0.0.1 in j:\\devtools\\anaconda\\lib\\site-packages (from gymnasium>=0.28.0->pettingzoo) (0.0.4)\n",
      "Requirement already satisfied: typing-extensions>=4.3.0 in j:\\devtools\\anaconda\\lib\\site-packages (from gymnasium>=0.28.0->pettingzoo) (4.4.0)\n"
     ]
    }
   ],
   "source": [
    "!pip install pettingzoo pygame numpy"
   ]
  },
  {
   "cell_type": "code",
   "execution_count": 2,
   "id": "c89a3354",
   "metadata": {},
   "outputs": [
    {
     "name": "stdout",
     "output_type": "stream",
     "text": [
      "making marios\n"
     ]
    }
   ],
   "source": [
    "from env.sm64_env import SM64_ENV\n",
    "env = SM64_ENV()"
   ]
  },
  {
   "cell_type": "code",
   "execution_count": 3,
   "id": "aa98c2e5",
   "metadata": {},
   "outputs": [],
   "source": [
    "# env.reset()\n",
    "done = False\n",
    "\n",
    "\n",
    "\n",
    "\n",
    "for i in range(100):\n",
    "    list_actions = [0 for _ in range(env.MAX_PLAYERS)]\n",
    "    if i % 10 == 0:\n",
    "        list_actions = [2 for _ in range(env.MAX_PLAYERS)]\n",
    "    if i % 10 == 1:\n",
    "        list_actions = [1 for _ in range(env.MAX_PLAYERS)]\n",
    "\n",
    "\n",
    "\n",
    "    # actions = [random.randint(0,env.N_ACTIONS-1) for _ in range(env.MAX_PLAYERS)]\n",
    "    actions = {f\"mario{k}\": list_actions[k] for k in range(env.MAX_PLAYERS) }\n",
    "    env.step(actions)\n",
    "#     env.render()\n"
   ]
  },
  {
   "cell_type": "code",
   "execution_count": 4,
   "id": "04217c2f",
   "metadata": {},
   "outputs": [
    {
     "data": {
      "text/plain": [
       "0"
      ]
     },
     "execution_count": 4,
     "metadata": {},
     "output_type": "execute_result"
    }
   ],
   "source": [
    "env.imgs[0]"
   ]
  },
  {
   "cell_type": "code",
   "execution_count": 5,
   "id": "5e29f39d",
   "metadata": {},
   "outputs": [
    {
     "ename": "AttributeError",
     "evalue": "'SM64_ENV' object has no attribute 'pixelPointers'",
     "output_type": "error",
     "traceback": [
      "\u001b[1;31m---------------------------------------------------------------------------\u001b[0m",
      "\u001b[1;31mAttributeError\u001b[0m                            Traceback (most recent call last)",
      "Cell \u001b[1;32mIn[5], line 2\u001b[0m\n\u001b[0;32m      1\u001b[0m \u001b[38;5;28;01mimport\u001b[39;00m \u001b[38;5;21;01mnumpy\u001b[39;00m \u001b[38;5;28;01mas\u001b[39;00m \u001b[38;5;21;01mnp\u001b[39;00m\n\u001b[1;32m----> 2\u001b[0m pixelStruct \u001b[38;5;241m=\u001b[39m \u001b[43menv\u001b[49m\u001b[38;5;241;43m.\u001b[39;49m\u001b[43mpixelPointers\u001b[49m[\u001b[38;5;241m0\u001b[39m]\u001b[38;5;241m.\u001b[39mcontents\n\u001b[0;32m      3\u001b[0m np\u001b[38;5;241m.\u001b[39mfromiter(pixelStruct\u001b[38;5;241m.\u001b[39mpixels, dtype\u001b[38;5;241m=\u001b[39m\u001b[38;5;28mint\u001b[39m, count\u001b[38;5;241m=\u001b[39mpixelStruct\u001b[38;5;241m.\u001b[39mwidth \u001b[38;5;241m*\u001b[39m pixelStruct\u001b[38;5;241m.\u001b[39mheight \u001b[38;5;241m*\u001b[39m \u001b[38;5;241m3\u001b[39m)\u001b[38;5;241m.\u001b[39mastype(np\u001b[38;5;241m.\u001b[39muint8)\u001b[38;5;241m.\u001b[39mreshape((pixelStruct\u001b[38;5;241m.\u001b[39mwidth, pixelStruct\u001b[38;5;241m.\u001b[39mheight, \u001b[38;5;241m3\u001b[39m))\n",
      "\u001b[1;31mAttributeError\u001b[0m: 'SM64_ENV' object has no attribute 'pixelPointers'"
     ]
    }
   ],
   "source": [
    "import numpy as np\n",
    "pixelStruct = env.pixelPointers[0].contents\n",
    "np.fromiter(pixelStruct.pixels, dtype=int, count=pixelStruct.width * pixelStruct.height * 3).astype(np.uint8).reshape((pixelStruct.width, pixelStruct.height, 3))"
   ]
  },
  {
   "cell_type": "code",
   "execution_count": null,
   "id": "a03f8de9",
   "metadata": {},
   "outputs": [],
   "source": []
  }
 ],
 "metadata": {
  "kernelspec": {
   "display_name": "Python 3 (ipykernel)",
   "language": "python",
   "name": "python3"
  },
  "language_info": {
   "codemirror_mode": {
    "name": "ipython",
    "version": 3
   },
   "file_extension": ".py",
   "mimetype": "text/x-python",
   "name": "python",
   "nbconvert_exporter": "python",
   "pygments_lexer": "ipython3",
   "version": "3.10.9"
  }
 },
 "nbformat": 4,
 "nbformat_minor": 5
}
