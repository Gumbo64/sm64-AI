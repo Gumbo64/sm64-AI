{
 "cells": [
  {
   "cell_type": "code",
   "execution_count": 1,
   "id": "addcd4c2",
   "metadata": {},
   "outputs": [
    {
     "name": "stdout",
     "output_type": "stream",
     "text": [
      "Requirement already satisfied: pettingzoo in j:\\devtools\\anaconda\\lib\\site-packages (1.24.2)\n",
      "Requirement already satisfied: pygame in j:\\devtools\\anaconda\\lib\\site-packages (2.5.2)\n",
      "Requirement already satisfied: numpy in j:\\devtools\\anaconda\\lib\\site-packages (1.23.5)\n",
      "Requirement already satisfied: gymnasium>=0.28.0 in j:\\devtools\\anaconda\\lib\\site-packages (from pettingzoo) (0.29.1)\n",
      "Requirement already satisfied: typing-extensions>=4.3.0 in j:\\devtools\\anaconda\\lib\\site-packages (from gymnasium>=0.28.0->pettingzoo) (4.4.0)\n",
      "Requirement already satisfied: farama-notifications>=0.0.1 in j:\\devtools\\anaconda\\lib\\site-packages (from gymnasium>=0.28.0->pettingzoo) (0.0.4)\n",
      "Requirement already satisfied: cloudpickle>=1.2.0 in c:\\users\\rory\\appdata\\roaming\\python\\python310\\site-packages (from gymnasium>=0.28.0->pettingzoo) (2.1.0)\n"
     ]
    }
   ],
   "source": [
    "!pip install pettingzoo pygame numpy"
   ]
  },
  {
   "cell_type": "code",
   "execution_count": 2,
   "id": "c89a3354",
   "metadata": {},
   "outputs": [
    {
     "name": "stdout",
     "output_type": "stream",
     "text": [
      "making marios\n"
     ]
    }
   ],
   "source": [
    "from env.sm64_env import SM64_ENV\n",
    "env = SM64_ENV()"
   ]
  },
  {
   "cell_type": "code",
   "execution_count": null,
   "id": "aa98c2e5",
   "metadata": {
    "scrolled": true
   },
   "outputs": [],
   "source": [
    "import random\n",
    "\n",
    "env.GRAYSCALE=False\n",
    "\n",
    "for i in range(300):\n",
    "\n",
    "    \n",
    "#     Every 10 frames crouch\n",
    "    if i % 10 == 0:\n",
    "        list_actions = [2 for _ in range(env.MAX_PLAYERS)]\n",
    "#     and then jump\n",
    "    if i % 10 == 1:\n",
    "        list_actions = [1 for _ in range(env.MAX_PLAYERS)]\n",
    "    else:\n",
    "#         walk forward the rest of the time\n",
    "        list_actions = [random.randint(0,env.N_ACTIONS-1) for _ in range(env.MAX_PLAYERS)]\n",
    "\n",
    "\n",
    "    # list_actions = [random.randint(0,env.N_ACTIONS-1) for _ in range(env.MAX_PLAYERS)]\n",
    "    \n",
    "    actions = {f\"mario{k}\": list_actions[k] for k in range(env.MAX_PLAYERS) }\n",
    "    env.step(actions)\n",
    "    env.render()\n"
   ]
  },
  {
   "cell_type": "code",
   "execution_count": null,
   "id": "04217c2f",
   "metadata": {},
   "outputs": [],
   "source": [
    "env.imgs[0]"
   ]
  },
  {
   "cell_type": "code",
   "execution_count": null,
   "id": "5e29f39d",
   "metadata": {},
   "outputs": [],
   "source": []
  },
  {
   "cell_type": "code",
   "execution_count": null,
   "id": "a03f8de9",
   "metadata": {},
   "outputs": [],
   "source": []
  },
  {
   "cell_type": "code",
   "execution_count": null,
   "id": "fb0b1707",
   "metadata": {},
   "outputs": [],
   "source": []
  }
 ],
 "metadata": {
  "kernelspec": {
   "display_name": "Python 3 (ipykernel)",
   "language": "python",
   "name": "python3"
  },
  "language_info": {
   "codemirror_mode": {
    "name": "ipython",
    "version": 3
   },
   "file_extension": ".py",
   "mimetype": "text/x-python",
   "name": "python",
   "nbconvert_exporter": "python",
   "pygments_lexer": "ipython3",
   "version": "3.10.9"
  }
 },
 "nbformat": 4,
 "nbformat_minor": 5
}
